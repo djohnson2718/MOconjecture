{
 "cells": [
  {
   "cell_type": "code",
   "execution_count": 8,
   "metadata": {},
   "outputs": [],
   "source": [
    "def TwoPartitions(n):\n",
    "    for P in Partitions(n):\n",
    "        for o2p in cartesian_product([Partitions(pi) for pi in P]):\n",
    "            yield o2p\n",
    "            \n",
    "def auts(P):\n",
    "    p = Partition([sum(Pi) for Pi in P])\n",
    "    return prod((factorial(m) for m in p.to_exp()))\n",
    "\n",
    "var(\"X,t1,t2\")\n",
    "\n",
    "def T1(lam,box):\n",
    "    return (lam.leg_length(*box) + 1)*t1 - lam.arm_length(*box)*t2\n",
    "\n",
    "def T2(lam,box):\n",
    "    return -lam.leg_length(*box)*t1 + (lam.arm_length(*box)+1)*t2"
   ]
  },
  {
   "cell_type": "code",
   "execution_count": 3,
   "metadata": {},
   "outputs": [],
   "source": [
    "def CHECK(f,n, gamma):\n",
    "    tot = 0\n",
    "    f_ex = f.expand(n)\n",
    "    x = f_ex.parent().gens()\n",
    "    \n",
    "    for P in TwoPartitions(n):\n",
    "        \n",
    "        prod_gamma = prod((\n",
    "            prod((\n",
    "                1/gamma.subs({X:T1(lam,box)*X})/gamma.subs({X:T2(lam,box)*X})\n",
    "            for box in lam.cells()))\n",
    "        for lam in P))\n",
    "        \n",
    "        all_boxes = dict(zip(x,[(box[0]*t1 + box[1]*t2)*X for lam in P for box in lam.cells()]))\n",
    "        \n",
    "        tot += (-1)^len(P)*factorial(len(P)-1)/auts(P) * prod_gamma * f_ex.subs(all_boxes)\n",
    "\n",
    "    tots = tot.series(X,6)\n",
    "    for c, e in tots.coefficients():\n",
    "        print(f\"coef of X^{e} is {c.simplify_full()}\")"
   ]
  },
  {
   "cell_type": "code",
   "execution_count": 6,
   "metadata": {},
   "outputs": [],
   "source": [
    "Sym = SymmetricFunctions(QQ).p() #symmetric functions with power series basis"
   ]
  },
  {
   "cell_type": "code",
   "execution_count": 13,
   "metadata": {},
   "outputs": [
    {
     "name": "stdout",
     "output_type": "stream",
     "text": [
      "coef of X^0 is 1/2*(t1^2 + t1*t2 + t2^2)/(t1*t2)\n",
      "coef of X^1 is 0\n",
      "coef of X^2 is 0\n",
      "coef of X^3 is 0\n",
      "coef of X^4 is 0\n",
      "coef of X^5 is 0\n"
     ]
    }
   ],
   "source": [
    "CHECK(Sym([4]),2,X)"
   ]
  },
  {
   "cell_type": "code",
   "execution_count": 15,
   "metadata": {},
   "outputs": [
    {
     "name": "stdout",
     "output_type": "stream",
     "text": [
      "coef of X^0 is 1/2*(t1^2 + t1*t2 + t2^2)/(t1*t2)\n",
      "coef of X^1 is 0\n",
      "coef of X^2 is 0\n",
      "coef of X^3 is 0\n",
      "coef of X^4 is 0\n",
      "coef of X^5 is 0\n"
     ]
    }
   ],
   "source": [
    "CHECK(Sym([2,1,1]),2,X)"
   ]
  },
  {
   "cell_type": "code",
   "execution_count": 16,
   "metadata": {},
   "outputs": [
    {
     "name": "stdout",
     "output_type": "stream",
     "text": [
      "coef of X^0 is 1/4*(187*t1^2 + 269*t1*t2 + 187*t2^2)/(t1*t2)\n",
      "coef of X^1 is 0\n",
      "coef of X^2 is 0\n",
      "coef of X^3 is 0\n",
      "coef of X^4 is 0\n",
      "coef of X^5 is 0\n"
     ]
    }
   ],
   "source": [
    "CHECK(Sym([5,3]),4, X)"
   ]
  },
  {
   "cell_type": "code",
   "execution_count": 17,
   "metadata": {},
   "outputs": [
    {
     "name": "stdout",
     "output_type": "stream",
     "text": [
      "coef of X^0 is -29*(t1^2 + 2*t1*t2 + t2^2)/(t1*t2)\n",
      "coef of X^1 is 13/2*(57*t1^3 + 94*t1^2*t2 + 94*t1*t2^2 + 57*t2^3)/(t1*t2)\n",
      "coef of X^2 is -5/2*(654*t1^4 + 1615*t1^3*t2 + 1922*t1^2*t2^2 + 1615*t1*t2^3 + 654*t2^4)/(t1*t2)\n",
      "coef of X^3 is 1/4*(38769*t1^5 + 82251*t1^4*t2 + 116237*t1^3*t2^2 + 116237*t1^2*t2^3 + 82251*t1*t2^4 + 38769*t2^5)/(t1*t2)\n",
      "coef of X^4 is -1/2*(81294*t1^6 + 208037*t1^5*t2 + 290489*t1^4*t2^2 + 327492*t1^3*t2^3 + 290489*t1^2*t2^4 + 208037*t1*t2^5 + 81294*t2^6)/(t1*t2)\n",
      "coef of X^5 is 1/4*(766922*t1^7 + 1789992*t1^6*t2 + 2769165*t1^5*t2^2 + 3210267*t1^4*t2^3 + 3210267*t1^3*t2^4 + 2769165*t1^2*t2^5 + 1789992*t1*t2^6 + 766922*t2^7)/(t1*t2)\n"
     ]
    }
   ],
   "source": [
    "CHECK(Sym([7]),4, X + X^2)"
   ]
  },
  {
   "cell_type": "code",
   "execution_count": 18,
   "metadata": {},
   "outputs": [
    {
     "name": "stdout",
     "output_type": "stream",
     "text": [
      "coef of X^0 is -3/4*(t1^2 + 2*t1*t2 + t2^2)/(t1*t2)\n",
      "coef of X^1 is 1/120*(35*t1^3 + 177*t1^2*t2 + 177*t1*t2^2 + 35*t2^3)/(t1*t2)\n",
      "coef of X^2 is 1/40*(5*t1^4 - 16*t1^3*t2 - 42*t1^2*t2^2 - 16*t1*t2^3 + 5*t2^4)/(t1*t2)\n",
      "coef of X^3 is -1/30240*(3213*t1^5 + 8075*t1^4*t2 - 3983*t1^3*t2^2 - 3983*t1^2*t2^3 + 8075*t1*t2^4 + 3213*t2^5)/(t1*t2)\n",
      "coef of X^4 is -1/20160*(378*t1^6 - 3350*t1^5*t2 - 4659*t1^4*t2^2 - 1862*t1^3*t2^3 - 4659*t1^2*t2^4 - 3350*t1*t2^5 + 378*t2^6)/(t1*t2)\n",
      "coef of X^5 is 1/1814400*(52590*t1^7 + 74640*t1^6*t2 - 171797*t1^5*t2^2 - 157195*t1^4*t2^3 - 157195*t1^3*t2^4 - 171797*t1^2*t2^5 + 74640*t1*t2^6 + 52590*t2^7)/(t1*t2)\n"
     ]
    }
   ],
   "source": [
    "CHECK(Sym[3],3,exp(X)-1)"
   ]
  },
  {
   "cell_type": "code",
   "execution_count": 19,
   "metadata": {},
   "outputs": [
    {
     "name": "stdout",
     "output_type": "stream",
     "text": [
      "coef of X^0 is -(10*t1^2 + 13*t1*t2 + 10*t2^2)/(t1*t2)\n",
      "coef of X^1 is 0\n",
      "coef of X^2 is -1/6*(208*t1^4 + 237*t1^3*t2 + 262*t1^2*t2^2 + 237*t1*t2^3 + 208*t2^4)/(t1*t2)\n",
      "coef of X^3 is 0\n",
      "coef of X^4 is -1/360*(22786*t1^6 + 20323*t1^5*t2 + 27530*t1^4*t2^2 + 28042*t1^3*t2^3 + 27530*t1^2*t2^4 + 20323*t1*t2^5 + 22786*t2^6)/(t1*t2)\n",
      "coef of X^5 is 0\n"
     ]
    }
   ],
   "source": [
    "CHECK(Sym([3,2,1]), 3, sin(X))"
   ]
  },
  {
   "cell_type": "code",
   "execution_count": 20,
   "metadata": {},
   "outputs": [
    {
     "name": "stdout",
     "output_type": "stream",
     "text": [
      "coef of X^0 is 0\n",
      "coef of X^1 is 0\n",
      "coef of X^2 is 0\n",
      "coef of X^3 is -(100*t1^5 + 148*t1^4*t2 + 167*t1^3*t2^2 + 167*t1^2*t2^3 + 148*t1*t2^4 + 100*t2^5)/(t1*t2)\n",
      "coef of X^4 is 0\n",
      "coef of X^5 is -1/6*(1918*t1^7 + 2262*t1^6*t2 + 2711*t1^5*t2^2 + 2895*t1^4*t2^3 + 2895*t1^3*t2^4 + 2711*t1^2*t2^5 + 2262*t1*t2^6 + 1918*t2^7)/(t1*t2)\n"
     ]
    }
   ],
   "source": [
    "CHECK(Sym([3,3,2,1]), 3, sin(X))"
   ]
  },
  {
   "cell_type": "code",
   "execution_count": 21,
   "metadata": {},
   "outputs": [
    {
     "name": "stdout",
     "output_type": "stream",
     "text": [
      "coef of X^0 is 6*(t1^2 + 2*t1*t2 + t2^2)/(t1*t2)\n",
      "coef of X^1 is 16*(t1^3 + t2^3)/(t1*t2)\n",
      "coef of X^2 is -6*(7*t1^4 + 12*t1^3*t2 + 10*t1^2*t2^2 + 12*t1*t2^3 + 7*t2^4)/(t1*t2)\n",
      "coef of X^3 is -(11*t1^5 - 84*t1^4*t2 - 96*t1^3*t2^2 - 96*t1^2*t2^3 - 84*t1*t2^4 + 11*t2^5)/(t1*t2)\n",
      "coef of X^4 is (33*t1^6 + 11*t1^5*t2 - 42*t1^4*t2^2 - 40*t1^3*t2^3 - 42*t1^2*t2^4 + 11*t1*t2^5 + 33*t2^6)/(t1*t2)\n",
      "coef of X^5 is -33*t1^5 - 33*t2^5\n"
     ]
    }
   ],
   "source": [
    "CHECK(Sym([5]), 3, X/(1-X))"
   ]
  },
  {
   "cell_type": "code",
   "execution_count": 23,
   "metadata": {},
   "outputs": [
    {
     "name": "stdout",
     "output_type": "stream",
     "text": [
      "coef of X^0 is 0\n",
      "coef of X^1 is 0\n",
      "coef of X^2 is 1/2*(t1^4 + t1^3*t2 + t1^2*t2^2 + t1*t2^3 + t2^4)/(t1*t2)\n",
      "coef of X^3 is -(t1^5 + 2*t1^4*t2 + 2*t1^3*t2^2 + 2*t1^2*t2^3 + 2*t1*t2^4 + t2^5)/(t1*t2)\n",
      "coef of X^4 is 1/2*(5*t1^6 + 8*t1^5*t2 + 11*t1^4*t2^2 + 11*t1^3*t2^3 + 11*t1^2*t2^4 + 8*t1*t2^5 + 5*t2^6)/(t1*t2)\n",
      "coef of X^5 is -(t1^7 + 4*t1^6*t2 + 7*t1^5*t2^2 + 8*t1^4*t2^3 + 8*t1^3*t2^4 + 7*t1^2*t2^5 + 4*t1*t2^6 + t2^7)/(t1*t2)\n"
     ]
    }
   ],
   "source": [
    "CHECK(Sym([4,1,1]), 2, X/(1-X+X^2))"
   ]
  },
  {
   "cell_type": "code",
   "execution_count": 25,
   "metadata": {},
   "outputs": [
    {
     "name": "stdout",
     "output_type": "stream",
     "text": [
      "coef of X^0 is -(10*t1^2 + 13*t1*t2 + 10*t2^2)/(t1*t2)\n",
      "coef of X^1 is 3*(10*a*t1^3 + 23*a*t1^2*t2 + 23*a*t1*t2^2 + 10*a*t2^3)/(t1*t2)\n",
      "coef of X^2 is -((149*a^2 - 208*b)*t1^4 + 3*(89*a^2 - 79*b)*t1^3*t2 + 2*(169*a^2 - 131*b)*t1^2*t2^2 + 3*(89*a^2 - 79*b)*t1*t2^3 + (149*a^2 - 208*b)*t2^4)/(t1*t2)\n",
      "coef of X^3 is 3*((152*a^3 - 307*a*b + 99*c)*t1^5 + (354*a^3 - 646*a*b + 201*c)*t1^4*t2 + (438*a^3 - 709*a*b + 210*c)*t1^3*t2^2 + (438*a^3 - 709*a*b + 210*c)*t1^2*t2^3 + (354*a^3 - 646*a*b + 201*c)*t1*t2^4 + (152*a^3 - 307*a*b + 99*c)*t2^5)/(t1*t2)\n",
      "coef of X^4 is -((1626*a^4 - 5136*a^2*b + 2665*b^2 + 2179*a*c)*t1^6 + (3358*a^4 - 8878*a^2*b + 2485*b^2 + 4209*a*c)*t1^5*t2 + (4841*a^4 - 12236*a^2*b + 3329*b^2 + 5619*a*c)*t1^4*t2^2 + (5129*a^4 - 12632*a^2*b + 3388*b^2 + 5726*a*c)*t1^3*t2^3 + (4841*a^4 - 12236*a^2*b + 3329*b^2 + 5619*a*c)*t1^2*t2^4 + (3358*a^4 - 8878*a^2*b + 2485*b^2 + 4209*a*c)*t1*t2^5 + (1626*a^4 - 5136*a^2*b + 2665*b^2 + 2179*a*c)*t2^6)/(t1*t2)\n",
      "coef of X^5 is (3*(1640*a^5 - 6574*a^3*b + 5492*a*b^2 + (3602*a^2 - 2827*b)*c)*t1^7 + 2*(5719*a^5 - 21119*a^3*b + 15221*a*b^2 + 2*(5947*a^2 - 3748*b)*c)*t1^6*t2 + (15465*a^5 - 52728*a^3*b + 32450*a*b^2 + 2*(14971*a^2 - 7504*b)*c)*t1^5*t2^2 + (18200*a^5 - 61090*a^3*b + 37240*a*b^2 + (34186*a^2 - 17089*b)*c)*t1^4*t2^3 + (18200*a^5 - 61090*a^3*b + 37240*a*b^2 + (34186*a^2 - 17089*b)*c)*t1^3*t2^4 + (15465*a^5 - 52728*a^3*b + 32450*a*b^2 + 2*(14971*a^2 - 7504*b)*c)*t1^2*t2^5 + 2*(5719*a^5 - 21119*a^3*b + 15221*a*b^2 + 2*(5947*a^2 - 3748*b)*c)*t1*t2^6 + 3*(1640*a^5 - 6574*a^3*b + 5492*a*b^2 + (3602*a^2 - 2827*b)*c)*t2^7)/(t1*t2)\n"
     ]
    }
   ],
   "source": [
    "var(\"a,b,c\")\n",
    "CHECK(Sym([3,2,1]), 3, X+a*X^2 + b*X^3 + c*X^4)"
   ]
  },
  {
   "cell_type": "code",
   "execution_count": null,
   "metadata": {},
   "outputs": [],
   "source": [
    "CHECK(Sym([1]), 5, X+X^2)"
   ]
  },
  {
   "cell_type": "code",
   "execution_count": null,
   "metadata": {},
   "outputs": [],
   "source": []
  }
 ],
 "metadata": {
  "kernelspec": {
   "display_name": "SageMath 9.1",
   "language": "sage",
   "name": "sagemath"
  },
  "language_info": {
   "codemirror_mode": {
    "name": "ipython",
    "version": 3
   },
   "file_extension": ".py",
   "mimetype": "text/x-python",
   "name": "python",
   "nbconvert_exporter": "python",
   "pygments_lexer": "ipython3",
   "version": "3.7.3"
  }
 },
 "nbformat": 4,
 "nbformat_minor": 2
}
